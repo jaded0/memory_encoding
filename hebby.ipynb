{
 "cells": [
  {
   "cell_type": "code",
   "execution_count": 1,
   "metadata": {},
   "outputs": [
    {
     "name": "stdout",
     "output_type": "stream",
     "text": [
      "Dataset created with 18427254087 sequences.\n",
      "Number of unique characters: 70\n",
      "Characters: ['a', 'b', 'c', 'd', 'e', 'f', 'g', 'h', 'i', 'j', 'k', 'l', 'm', 'n', 'o', 'p', 'q', 'r', 's', 't', 'u', 'v', 'w', 'x', 'y', 'z', 'A', 'B', 'C', 'D', 'E', 'F', 'G', 'H', 'I', 'J', 'K', 'L', 'M', 'N', 'O', 'P', 'Q', 'R', 'S', 'T', 'U', 'V', 'W', 'X', 'Y', 'Z', '0', '1', '2', '3', '4', '5', '6', '7', '8', '9', ',', '.', ';', \"'\", '\"', '?', '!', ' ']\n"
     ]
    }
   ],
   "source": [
    "from dataset_creation import TextDataset\n",
    "from torch.utils.data import DataLoader\n",
    "import numpy as np\n",
    "import torch\n",
    "\n",
    "# Instantiate the dataset\n",
    "text_dataset = TextDataset(directory='data/SPGC-tokens-2018-07-18/', sequence_length=10)\n",
    "print(f\"Dataset created with {len(text_dataset)} sequences.\")\n",
    "\n",
    "# Define chars using keys of char_to_idx\n",
    "chars = list(text_dataset.char_to_idx.keys())\n",
    "\n",
    "n_characters = text_dataset.n_characters  # Number of unique characters\n",
    "print(f\"Number of unique characters: {n_characters}\")\n",
    "print(f\"Characters: {chars}\")"
   ]
  },
  {
   "cell_type": "code",
   "execution_count": 2,
   "metadata": {},
   "outputs": [],
   "source": [
    "from hebbian_model import HebbianLinear, SimpleRNN, clip_weights\n",
    "# Import the functions for saving model data\n",
    "from vis import register_hooks, save_model_data\n",
    "\n",
    "input_size = n_characters\n",
    "output_size = n_characters\n",
    "n_hidden = 128\n",
    "rnn = SimpleRNN(input_size, n_hidden, output_size, 3)\n",
    "\n",
    "# Register hooks to capture activations\n",
    "activations = register_hooks(rnn)\n",
    "\n",
    "# Initialize a counter for training instances\n",
    "training_instance = 0\n",
    "\n",
    "# Define the loss function (criterion)\n",
    "criterion = torch.nn.NLLLoss()"
   ]
  },
  {
   "cell_type": "code",
   "execution_count": 3,
   "metadata": {},
   "outputs": [
    {
     "data": {
      "text/plain": [
       "(' last it i', tensor([69, 11,  0, 18, 19, 69,  8, 19, 69,  8]))"
      ]
     },
     "execution_count": 3,
     "metadata": {},
     "output_type": "execute_result"
    }
   ],
   "source": [
    "def randomTrainingExample():\n",
    "    \"\"\"Generate a random training example from the dataset\"\"\"\n",
    "    sequence, line_tensor = text_dataset[np.random.randint(len(text_dataset))]\n",
    "    return sequence, line_tensor\n",
    "\n",
    "randomTrainingExample()"
   ]
  },
  {
   "cell_type": "code",
   "execution_count": 4,
   "metadata": {},
   "outputs": [],
   "source": [
    "learning_rate = 0.005 # If you set this too high, it might explode. If too low, it might not learn\n",
    "imprint_rate = 0.00005\n",
    "last_n_rewards = [0]\n",
    "last_n_reward_avg = 0\n",
    "n_rewards = 100\n",
    "stochasticity = 0.0001\n",
    "save_frequency = 10  # Save data every 10 characters\n",
    "\n",
    "def train(line_tensor):\n",
    "    global training_instance\n",
    "    hidden = rnn.initHidden()\n",
    "    rnn.zero_grad()\n",
    "    losses = []\n",
    "    output = None\n",
    "    for i in range(line_tensor.size()[0] - 1):\n",
    "        hot_input_char_tensor = torch.nn.functional.one_hot(line_tensor[i], num_classes=n_characters).type(torch.float).unsqueeze(0)\n",
    "        output, hidden = rnn(hot_input_char_tensor, hidden)\n",
    "\n",
    "        # print(\"output shape:\", output.shape)\n",
    "        # print(\"line_tensor shape:\", line_tensor.shape)\n",
    "        # print(output)\n",
    "        # print(line_tensor[-1].unsqueeze(0))\n",
    "        loss = criterion(output, line_tensor[-1].unsqueeze(0))\n",
    "        # print(loss)\n",
    "\n",
    "        # Convert loss to a reward signal\n",
    "        reward = 1 / (1 + loss.item())  # Example conversion, assuming loss is non-negative\n",
    "        # print(reward)\n",
    "\n",
    "        # update last_n_rewards\n",
    "        last_n_rewards.append(reward)\n",
    "        if len(last_n_rewards) > n_rewards:\n",
    "            last_n_rewards.pop(0)\n",
    "        last_n_reward_avg = sum(last_n_rewards) / len(last_n_rewards)\n",
    "        reward_update = reward - last_n_reward_avg\n",
    "        # print(reward_update)\n",
    "        clip_weights(rnn, max_norm=0.5)  # Choose an appropriate max_norm value\n",
    "\n",
    "        # Apply Hebbian updates\n",
    "        rnn.apply_imprints(reward_update, learning_rate, imprint_rate)\n",
    "\n",
    "        # Apply stochasticity\n",
    "        for p in rnn.parameters():\n",
    "            noise = stochasticity * torch.randn_like(p.data)\n",
    "            # print(noise)\n",
    "            p.data += noise\n",
    "\n",
    "        losses.append(loss.item())\n",
    "        if (training_instance % save_frequency == 0) and (i % 5 == 0):\n",
    "            # Save model data at specified frequency\n",
    "            save_model_data(rnn, activations, training_instance, i)\n",
    "        training_instance += 1\n",
    "    \n",
    "    loss_avg = sum(losses) / len(losses)\n",
    "    return output, loss_avg\n"
   ]
  },
  {
   "cell_type": "code",
   "execution_count": 5,
   "metadata": {},
   "outputs": [
    {
     "name": "stderr",
     "output_type": "stream",
     "text": [
      "Failed to detect the name of this notebook, you can set it manually with the WANDB_NOTEBOOK_NAME environment variable to enable code saving.\n",
      "\u001b[34m\u001b[1mwandb\u001b[0m: Currently logged in as: \u001b[33mjaden-lorenc\u001b[0m (\u001b[33mjadens_team\u001b[0m). Use \u001b[1m`wandb login --relogin`\u001b[0m to force relogin\n"
     ]
    },
    {
     "data": {
      "text/html": [
       "Tracking run with wandb version 0.16.2"
      ],
      "text/plain": [
       "<IPython.core.display.HTML object>"
      ]
     },
     "metadata": {},
     "output_type": "display_data"
    },
    {
     "data": {
      "text/html": [
       "Run data is saved locally in <code>/home/deck/Documents/memory_encoding/wandb/run-20240115_164124-y7r9eaf1</code>"
      ],
      "text/plain": [
       "<IPython.core.display.HTML object>"
      ]
     },
     "metadata": {},
     "output_type": "display_data"
    },
    {
     "data": {
      "text/html": [
       "Syncing run <strong><a href='https://wandb.ai/jadens_team/hebby/runs/y7r9eaf1' target=\"_blank\">different-donkey-20</a></strong> to <a href='https://wandb.ai/jadens_team/hebby' target=\"_blank\">Weights & Biases</a> (<a href='https://wandb.me/run' target=\"_blank\">docs</a>)<br/>"
      ],
      "text/plain": [
       "<IPython.core.display.HTML object>"
      ]
     },
     "metadata": {},
     "output_type": "display_data"
    },
    {
     "data": {
      "text/html": [
       " View project at <a href='https://wandb.ai/jadens_team/hebby' target=\"_blank\">https://wandb.ai/jadens_team/hebby</a>"
      ],
      "text/plain": [
       "<IPython.core.display.HTML object>"
      ]
     },
     "metadata": {},
     "output_type": "display_data"
    },
    {
     "data": {
      "text/html": [
       " View run at <a href='https://wandb.ai/jadens_team/hebby/runs/y7r9eaf1' target=\"_blank\">https://wandb.ai/jadens_team/hebby/runs/y7r9eaf1</a>"
      ],
      "text/plain": [
       "<IPython.core.display.HTML object>"
      ]
     },
     "metadata": {},
     "output_type": "display_data"
    },
    {
     "data": {
      "text/html": [
       "<button onClick=\"this.nextSibling.style.display='block';this.style.display='none';\">Display W&B run</button><iframe src='https://wandb.ai/jadens_team/hebby/runs/y7r9eaf1?jupyter=true' style='border:none;width:100%;height:420px;display:none;'></iframe>"
      ],
      "text/plain": [
       "<wandb.sdk.wandb_run.Run at 0x7f1726768760>"
      ]
     },
     "execution_count": 5,
     "metadata": {},
     "output_type": "execute_result"
    }
   ],
   "source": [
    "import wandb\n",
    "# start a new wandb run to track this script\n",
    "wandb.init(\n",
    "    # set the wandb project where this run will be logged\n",
    "    project=\"hebby\",\n",
    "    \n",
    "    # track hyperparameters and run metadata\n",
    "    config={\n",
    "    \"learning_rate\": learning_rate,\n",
    "    \"architecture\": \"crazy hebbian thing\",\n",
    "    \"dataset\": \"wikidump\",\n",
    "    \"epochs\": 1,\n",
    "    \"stochasticity\": stochasticity,\n",
    "    \"imprint_rate\": imprint_rate,\n",
    "    }\n",
    ")"
   ]
  },
  {
   "cell_type": "code",
   "execution_count": 6,
   "metadata": {},
   "outputs": [
    {
     "name": "stdout",
     "output_type": "stream",
     "text": [
      "50 0% (0m 1s) 4.1535 of grobben / h ✗ (n)\n",
      "100 1% (0m 2s) 4.3480  and singi / h ✗ (i)\n",
      "150 1% (0m 4s) 4.2675 nhouse pee / h ✗ (e)\n",
      "200 2% (0m 5s) 4.3089 iene due v / h ✗ (v)\n",
      "250 2% (0m 7s) 4.2177 n a coop a / h ✗ (a)\n",
      "300 3% (0m 8s) 4.3192 ederal gov / h ✗ (v)\n",
      "350 3% (0m 9s) 4.2171 or cocarda / h ✗ (a)\n",
      "400 4% (0m 11s) 4.2652 ven assist / h ✗ (t)\n",
      "450 4% (0m 12s) 4.2249 numerous o / h ✗ (o)\n",
      "500 5% (0m 14s) 4.2655 untry to t / h ✗ (t)\n",
      "550 5% (0m 15s) 4.3389  you to sp / h ✗ (p)\n",
      "600 6% (0m 17s) 4.3300  remote or / h ✗ (r)\n",
      "650 6% (0m 18s) 4.3089 ita sonja  / h ✗ ( )\n",
      "700 7% (0m 19s) 4.3583 ate of thi / h ✗ (i)\n",
      "750 7% (0m 21s) 4.3105 ongst the  / h ✗ ( )\n",
      "800 8% (0m 22s) 4.2549 d woman ol / h ✗ (l)\n",
      "850 8% (0m 24s) 4.2819 all warm s / h ✗ (s)\n",
      "900 9% (0m 25s) 4.2988 ée par la  / h ✗ ( )\n",
      "950 9% (0m 27s) 4.3324 n and hatr / h ✗ (r)\n",
      "1000 10% (0m 28s) 4.2317 ife withou / h ✗ (u)\n",
      "1050 10% (0m 30s) 4.2237 tage or no / h ✗ (o)\n",
      "1100 11% (0m 31s) 4.2450 d before t / h ✗ (t)\n",
      "1150 11% (0m 32s) 4.2955  front of  / h ✗ ( )\n",
      "1200 12% (0m 34s) 4.2987 d to your  / h ✗ ( )\n",
      "1250 12% (0m 35s) 4.2943 set forth  / h ✗ ( )\n",
      "1300 13% (0m 37s) 4.2953 d and you  / h ✗ ( )\n",
      "1350 13% (0m 38s) 4.2252  to be fra / h ✗ (a)\n",
      "1400 14% (0m 40s) 4.2267 lbachin lä / h ✗ (ä)\n",
      "1450 14% (0m 41s) 4.3580 ngs with i / h ✗ (i)\n",
      "1500 15% (0m 42s) 4.2531 body of it / h ✗ (t)\n",
      "1550 15% (0m 44s) 4.2470 grant mult / h ✗ (t)\n",
      "1600 16% (0m 45s) 4.1137 n those wh / h ✓\n",
      "1650 16% (0m 47s) 4.3397 ed them br / h ✗ (r)\n",
      "1700 17% (0m 49s) 4.3090 este ooth  / h ✗ ( )\n",
      "1750 17% (0m 50s) 4.3390 ête à la r / h ✗ (r)\n",
      "1800 18% (0m 52s) 4.2421 s roused t / h ✗ (t)\n",
      "1850 18% (0m 53s) 4.2766 forget the / h ✗ (e)\n",
      "1900 19% (0m 55s) 4.2452 ch consist / h ✗ (t)\n",
      "1950 19% (0m 56s) 4.1087 taff is sh / h ✓\n",
      "2000 20% (0m 58s) 4.3683 repeated i / h ✗ (i)\n",
      "2050 20% (0m 59s) 4.3086 knows her  / h ✗ ( )\n",
      "2100 21% (1m 1s) 4.2755  cities as / h ✗ (s)\n",
      "2150 21% (1m 2s) 4.3135 hich the m / h ✗ (m)\n",
      "2200 22% (1m 4s) 4.2724 five years / h ✗ (s)\n",
      "2250 22% (1m 5s) 4.3039  all over  / h ✗ ( )\n",
      "2300 23% (1m 7s) 4.2318 england au / h ✗ (u)\n",
      "2350 23% (1m 8s) 4.2300 real battl / h ✗ (l)\n",
      "2400 24% (1m 10s) 4.2309 now to wha / h ✗ (a)\n",
      "2450 24% (1m 11s) 4.2317 �ένο κλώνο / h ✗ (ο)\n",
      "2500 25% (1m 13s) 4.3103 peditions  / h ✗ ( )\n",
      "2550 25% (1m 14s) 4.2293 nsä yksinä / h ✗ (ä)\n",
      "2600 26% (1m 16s) 4.3391 ing indoor / h ✗ (r)\n",
      "2650 26% (1m 17s) 4.3061  by which  / h ✗ ( )\n",
      "2700 27% (1m 19s) 4.3042 the past y / h ✗ (y)\n",
      "2750 27% (1m 20s) 4.3063 ce over a  / h ✗ ( )\n",
      "2800 28% (1m 22s) 4.2212 what a lif / h ✗ (f)\n",
      "2850 28% (1m 23s) 4.2258 id in a lo / h ✗ (o)\n",
      "2900 28% (1m 25s) 4.2339 al modific / h ✗ (c)\n",
      "2950 29% (1m 26s) 4.3005 is length  / h ✗ ( )\n",
      "3000 30% (1m 27s) 4.2896 ir and a g / h ✗ (g)\n",
      "3050 30% (1m 29s) 4.1047 o those wh / h ✓\n",
      "3100 31% (1m 30s) 4.2975 brazo por  / h ✗ ( )\n",
      "3150 31% (1m 32s) 4.2786 a time a s / h ✗ (s)\n",
      "3200 32% (1m 33s) 4.2960 eat drama  / h ✗ ( )\n",
      "3250 32% (1m 35s) 4.2985 ho hektor  / h ✗ ( )\n",
      "3300 33% (1m 36s) 4.3500  had a jar / h ✗ (r)\n",
      "3350 33% (1m 38s) 4.2747 s at all s / h ✗ (s)\n",
      "3400 34% (1m 39s) 4.2804 re availab / h ✗ (b)\n",
      "3450 34% (1m 41s) 4.2787 za durante / h ✗ (e)\n",
      "3500 35% (1m 42s) 4.2550  the apost / h ✗ (t)\n",
      "3550 35% (1m 44s) 4.3151 bewitched  / h ✗ ( )\n",
      "3600 36% (1m 45s) 4.2187 ty of zinc / h ✗ (c)\n",
      "3650 36% (1m 47s) 4.3579 ohne unter / h ✗ (r)\n",
      "3700 37% (1m 49s) 4.3041 t home and / h ✗ (d)\n",
      "3750 37% (1m 50s) 4.2611  illustrat / h ✗ (t)\n",
      "3800 38% (1m 51s) 4.1036  of the th / h ✓\n",
      "3850 38% (1m 53s) 4.2081 ei tietenk / h ✗ (k)\n",
      "3900 39% (1m 54s) 4.2704  then be t / h ✗ (t)\n",
      "3950 39% (1m 56s) 4.3153 church to  / h ✗ ( )\n",
      "4000 40% (1m 57s) 4.2780  set sting / h ✗ (g)\n",
      "4050 40% (1m 59s) 4.1589  herald an / h ✗ (n)\n",
      "4100 41% (2m 0s) 4.2871  la exclus / h ✗ (s)\n",
      "4150 41% (2m 2s) 4.3537 iestä suor / h ✗ (r)\n",
      "4200 42% (2m 3s) 4.2249 d not argu / . ✗ (u)\n",
      "4250 42% (2m 5s) 4.2248 re said to / . ✗ (o)\n",
      "4300 43% (2m 6s) 4.3117 ey always  / . ✗ ( )\n",
      "4350 43% (2m 8s) 4.3105 few years  / . ✗ ( )\n",
      "4400 44% (2m 9s) 4.3574 ough sever / . ✗ (r)\n",
      "4450 44% (2m 11s) 4.2637  ses botte / h ✗ (e)\n",
      "4500 45% (2m 12s) 4.3143 delia had  / h ✗ ( )\n",
      "4550 45% (2m 14s) 4.2529 iten tid ä / h ✗ (ä)\n",
      "4600 46% (2m 15s) 4.2163  in this c / h ✗ (c)\n",
      "4650 46% (2m 17s) 4.2208 ny unexpec / h ✗ (c)\n",
      "4700 47% (2m 18s) 4.3163 of a clue  / h ✗ ( )\n"
     ]
    },
    {
     "ename": "KeyboardInterrupt",
     "evalue": "",
     "output_type": "error",
     "traceback": [
      "\u001b[0;31m---------------------------------------------------------------------------\u001b[0m",
      "\u001b[0;31mKeyboardInterrupt\u001b[0m                         Traceback (most recent call last)",
      "Cell \u001b[0;32mIn[6], line 23\u001b[0m\n\u001b[1;32m     21\u001b[0m \u001b[38;5;28;01mfor\u001b[39;00m \u001b[38;5;28miter\u001b[39m \u001b[38;5;129;01min\u001b[39;00m \u001b[38;5;28mrange\u001b[39m(\u001b[38;5;241m1\u001b[39m, n_iters \u001b[38;5;241m+\u001b[39m \u001b[38;5;241m1\u001b[39m):\n\u001b[1;32m     22\u001b[0m     sequence, line_tensor \u001b[38;5;241m=\u001b[39m randomTrainingExample()\n\u001b[0;32m---> 23\u001b[0m     output, loss \u001b[38;5;241m=\u001b[39m \u001b[43mtrain\u001b[49m\u001b[43m(\u001b[49m\u001b[43mline_tensor\u001b[49m\u001b[43m)\u001b[49m\n\u001b[1;32m     24\u001b[0m     current_loss \u001b[38;5;241m+\u001b[39m\u001b[38;5;241m=\u001b[39m loss\n\u001b[1;32m     25\u001b[0m     wandb\u001b[38;5;241m.\u001b[39mlog({\u001b[38;5;124m\"\u001b[39m\u001b[38;5;124mloss\u001b[39m\u001b[38;5;124m\"\u001b[39m: loss})\n",
      "Cell \u001b[0;32mIn[4], line 44\u001b[0m, in \u001b[0;36mtrain\u001b[0;34m(line_tensor)\u001b[0m\n\u001b[1;32m     42\u001b[0m \u001b[38;5;66;03m# Apply stochasticity\u001b[39;00m\n\u001b[1;32m     43\u001b[0m \u001b[38;5;28;01mfor\u001b[39;00m p \u001b[38;5;129;01min\u001b[39;00m rnn\u001b[38;5;241m.\u001b[39mparameters():\n\u001b[0;32m---> 44\u001b[0m     noise \u001b[38;5;241m=\u001b[39m stochasticity \u001b[38;5;241m*\u001b[39m \u001b[43mtorch\u001b[49m\u001b[38;5;241;43m.\u001b[39;49m\u001b[43mrandn_like\u001b[49m\u001b[43m(\u001b[49m\u001b[43mp\u001b[49m\u001b[38;5;241;43m.\u001b[39;49m\u001b[43mdata\u001b[49m\u001b[43m)\u001b[49m\n\u001b[1;32m     45\u001b[0m     \u001b[38;5;66;03m# print(noise)\u001b[39;00m\n\u001b[1;32m     46\u001b[0m     p\u001b[38;5;241m.\u001b[39mdata \u001b[38;5;241m+\u001b[39m\u001b[38;5;241m=\u001b[39m noise\n",
      "\u001b[0;31mKeyboardInterrupt\u001b[0m: "
     ]
    }
   ],
   "source": [
    "import time\n",
    "import math\n",
    "\n",
    "n_iters = 10000\n",
    "print_every = 50\n",
    "plot_every = 1\n",
    "\n",
    "# Keep track of losses for plotting\n",
    "current_loss = 0\n",
    "all_losses = []\n",
    "\n",
    "def timeSince(since):\n",
    "    now = time.time()\n",
    "    s = now - since\n",
    "    m = math.floor(s / 60)\n",
    "    s -= m * 60\n",
    "    return '%dm %ds' % (m, s)\n",
    "\n",
    "start = time.time()\n",
    "\n",
    "for iter in range(1, n_iters + 1):\n",
    "    sequence, line_tensor = randomTrainingExample()\n",
    "    output, loss = train(line_tensor)\n",
    "    current_loss += loss\n",
    "    wandb.log({\"loss\": loss})\n",
    "    # Check if loss is NaN\n",
    "    if math.isnan(loss):\n",
    "        print(\"Loss is NaN, breaking...\")\n",
    "        parameters = list(rnn.parameters())\n",
    "        for p in parameters:\n",
    "            print(p.data)\n",
    "        break\n",
    "    # Print ``iter`` number, loss, name and guess\n",
    "    if iter % print_every == 0:\n",
    "        # Use the output to generate a character prediction\n",
    "        topv, topi = output.topk(1, dim=1)  # Change dim to 1\n",
    "        predicted_char = text_dataset.idx_to_char[topi[0, 0].item()]\n",
    "        target_char = sequence[-1]\n",
    "        correct = '✓' if predicted_char == target_char else '✗ (%s)' % target_char\n",
    "        print('%d %d%% (%s) %.4f %s / %s %s' % (iter, iter / n_iters * 100, timeSince(start), loss, sequence, predicted_char, correct))\n",
    "        wandb.log({\"correct\": correct, \"predicted_char\": predicted_char, \"target_char\": target_char, \"sequence\": sequence})\n",
    "\n",
    "        # also print some weights:\n",
    "        # print(\"i2h weights:\", rnn.i2h.weight)\n",
    "        # print(\"i2o weights:\", rnn.i2o.weight)\n",
    "\n",
    "    # Add current loss avg to list of losses source /home/deck/miniconda3/bin/activate /home/deck/Documents/memory_encoding/hebby\n",
    "    if iter % plot_every == 0:\n",
    "        all_losses.append(current_loss / plot_every)\n",
    "        current_loss = 0\n",
    "\n",
    "# [optional] finish the wandb run, necessary in notebooks\n",
    "wandb.finish()"
   ]
  },
  {
   "cell_type": "code",
   "execution_count": null,
   "metadata": {},
   "outputs": [
    {
     "data": {
      "text/plain": [
       "[<matplotlib.lines.Line2D at 0x7fbc498b6950>]"
      ]
     },
     "execution_count": 7,
     "metadata": {},
     "output_type": "execute_result"
    },
    {
     "data": {
      "image/png": "[encoded data removed]",
      "text/plain": [
       "<Figure size 640x480 with 1 Axes>"
      ]
     },
     "metadata": {},
     "output_type": "display_data"
    }
   ],
   "source": [
    "import matplotlib.pyplot as plt\n",
    "\n",
    "plt.figure()\n",
    "plt.plot(all_losses)"
   ]
  },
  {
   "cell_type": "code",
   "execution_count": null,
   "metadata": {},
   "outputs": [],
   "source": []
  },
  {
   "cell_type": "code",
   "execution_count": null,
   "metadata": {},
   "outputs": [],
   "source": []
  }
 ],
 "metadata": {
  "kernelspec": {
   "display_name": "Python 3",
   "language": "python",
   "name": "python3"
  },
  "language_info": {
   "codemirror_mode": {
    "name": "ipython",
    "version": 3
   },
   "file_extension": ".py",
   "mimetype": "text/x-python",
   "name": "python",
   "nbconvert_exporter": "python",
   "pygments_lexer": "ipython3",
   "version": "3.10.13"
  }
 },
 "nbformat": 4,
 "nbformat_minor": 2
}
