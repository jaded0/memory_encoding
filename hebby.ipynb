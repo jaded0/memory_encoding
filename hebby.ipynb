{
 "cells": [
  {
   "cell_type": "code",
   "execution_count": 1,
   "metadata": {},
   "outputs": [
    {
     "name": "stdout",
     "output_type": "stream",
     "text": [
      "Dataset created with 18422222637 sequences.\n",
      "Number of unique characters: 70\n",
      "Characters: ['a', 'b', 'c', 'd', 'e', 'f', 'g', 'h', 'i', 'j', 'k', 'l', 'm', 'n', 'o', 'p', 'q', 'r', 's', 't', 'u', 'v', 'w', 'x', 'y', 'z', 'A', 'B', 'C', 'D', 'E', 'F', 'G', 'H', 'I', 'J', 'K', 'L', 'M', 'N', 'O', 'P', 'Q', 'R', 'S', 'T', 'U', 'V', 'W', 'X', 'Y', 'Z', '0', '1', '2', '3', '4', '5', '6', '7', '8', '9', ',', '.', ';', \"'\", '\"', '?', '!', ' ']\n"
     ]
    }
   ],
   "source": [
    "from dataset_creation import TextDataset\n",
    "from torch.utils.data import DataLoader\n",
    "import numpy as np\n",
    "import torch\n",
    "\n",
    "# Instantiate the dataset\n",
    "text_dataset = TextDataset(directory='data/SPGC-tokens-2018-07-18/', sequence_length=100)\n",
    "print(f\"Dataset created with {len(text_dataset)} sequences.\")\n",
    "\n",
    "# Define chars using keys of char_to_idx\n",
    "chars = list(text_dataset.char_to_idx.keys())\n",
    "\n",
    "n_characters = text_dataset.n_characters  # Number of unique characters\n",
    "print(f\"Number of unique characters: {n_characters}\")\n",
    "print(f\"Characters: {chars}\")"
   ]
  },
  {
   "cell_type": "code",
   "execution_count": 2,
   "metadata": {},
   "outputs": [],
   "source": [
    "from hebbian_model import HebbianLinear, SimpleRNN, clip_weights\n",
    "# Ensure the input size matches the number of features for each input\n",
    "input_size = n_characters\n",
    "output_size = n_characters\n",
    "n_hidden = 128\n",
    "rnn = SimpleRNN(input_size, n_hidden, output_size,3)\n",
    "\n",
    "# Define the loss function (criterion)\n",
    "criterion = torch.nn.NLLLoss()"
   ]
  },
  {
   "cell_type": "code",
   "execution_count": 3,
   "metadata": {},
   "outputs": [
    {
     "data": {
      "text/plain": [
       "('ttä hän voi siunata kaikkia veljiänsä ismaelia hagarin poikaa lihallisen israelin esikuvaa ja ketura',\n",
       " tensor([19, 19,  0, 69,  7,  0, 13, 69, 21, 14,  8, 69, 18,  8, 20, 13,  0, 19,\n",
       "          0, 69, 10,  0,  8, 10, 10,  8,  0, 69, 21,  4, 11,  9,  8,  0, 13, 18,\n",
       "          0, 69,  8, 18, 12,  0,  4, 11,  8,  0, 69,  7,  0,  6,  0, 17,  8, 13,\n",
       "         69, 15, 14,  8, 10,  0,  0, 69, 11,  8,  7,  0, 11, 11,  8, 18,  4, 13,\n",
       "         69,  8, 18, 17,  0,  4, 11,  8, 13, 69,  4, 18,  8, 10, 20, 21,  0,  0,\n",
       "         69,  9,  0, 69, 10,  4, 19, 20, 17,  0]))"
      ]
     },
     "execution_count": 3,
     "metadata": {},
     "output_type": "execute_result"
    }
   ],
   "source": [
    "def randomTrainingExample():\n",
    "    \"\"\"Generate a random training example from the dataset\"\"\"\n",
    "    sequence, line_tensor = text_dataset[np.random.randint(len(text_dataset))]\n",
    "    return sequence, line_tensor\n",
    "\n",
    "randomTrainingExample()"
   ]
  },
  {
   "cell_type": "code",
   "execution_count": 4,
   "metadata": {},
   "outputs": [],
   "source": [
    "learning_rate = 0.005 # If you set this too high, it might explode. If too low, it might not learn\n",
    "imprint_rate = 0.00005\n",
    "last_n_rewards = [0]\n",
    "last_n_reward_avg = 0\n",
    "n_rewards = 100\n",
    "stochasticity = 0.0001\n",
    "def train(line_tensor):\n",
    "    hidden = rnn.initHidden()\n",
    "    rnn.zero_grad()\n",
    "    losses = []\n",
    "    output = None\n",
    "    for i in range(line_tensor.size()[0] - 1):\n",
    "        hot_input_char_tensor = torch.nn.functional.one_hot(line_tensor[i], num_classes=n_characters).type(torch.float).unsqueeze(0)\n",
    "        output, hidden = rnn(hot_input_char_tensor, hidden)\n",
    "\n",
    "        # print(\"output shape:\", output.shape)\n",
    "        # print(\"line_tensor shape:\", line_tensor.shape)\n",
    "        # print(output)\n",
    "        # print(line_tensor[-1].unsqueeze(0))\n",
    "        loss = criterion(output, line_tensor[-1].unsqueeze(0))\n",
    "        # print(loss)\n",
    "\n",
    "        # Convert loss to a reward signal\n",
    "        reward = 1 / (1 + loss.item())  # Example conversion, assuming loss is non-negative\n",
    "        # print(reward)\n",
    "\n",
    "        # update last_n_rewards\n",
    "        last_n_rewards.append(reward)\n",
    "        if len(last_n_rewards) > n_rewards:\n",
    "            last_n_rewards.pop(0)\n",
    "        last_n_reward_avg = sum(last_n_rewards) / len(last_n_rewards)\n",
    "        reward_update = reward - last_n_reward_avg\n",
    "        # print(reward_update)\n",
    "        clip_weights(rnn, max_norm=0.5)  # Choose an appropriate max_norm value\n",
    "\n",
    "        # Apply Hebbian updates\n",
    "        rnn.apply_imprints(reward_update, learning_rate, imprint_rate)\n",
    "\n",
    "        # Apply stochasticity\n",
    "        for p in rnn.parameters():\n",
    "            noise = stochasticity * torch.randn_like(p.data)\n",
    "            # print(noise)\n",
    "            p.data += noise\n",
    "\n",
    "        losses.append(loss.item())\n",
    "    loss_avg = sum(losses) / len(losses)\n",
    "    return output, loss_avg\n"
   ]
  },
  {
   "cell_type": "code",
   "execution_count": 5,
   "metadata": {},
   "outputs": [
    {
     "name": "stderr",
     "output_type": "stream",
     "text": [
      "Failed to detect the name of this notebook, you can set it manually with the WANDB_NOTEBOOK_NAME environment variable to enable code saving.\n",
      "\u001b[34m\u001b[1mwandb\u001b[0m: Currently logged in as: \u001b[33mjaden-lorenc\u001b[0m (\u001b[33mjadens_team\u001b[0m). Use \u001b[1m`wandb login --relogin`\u001b[0m to force relogin\n"
     ]
    },
    {
     "data": {
      "text/html": [
       "Tracking run with wandb version 0.16.2"
      ],
      "text/plain": [
       "<IPython.core.display.HTML object>"
      ]
     },
     "metadata": {},
     "output_type": "display_data"
    },
    {
     "data": {
      "text/html": [
       "Run data is saved locally in <code>/home/jaden/memory_encoding/wandb/run-20240112_162350-n8uvd3j8</code>"
      ],
      "text/plain": [
       "<IPython.core.display.HTML object>"
      ]
     },
     "metadata": {},
     "output_type": "display_data"
    },
    {
     "data": {
      "text/html": [
       "Syncing run <strong><a href='https://wandb.ai/jadens_team/hebby/runs/n8uvd3j8' target=\"_blank\">dandy-frog-3</a></strong> to <a href='https://wandb.ai/jadens_team/hebby' target=\"_blank\">Weights & Biases</a> (<a href='https://wandb.me/run' target=\"_blank\">docs</a>)<br/>"
      ],
      "text/plain": [
       "<IPython.core.display.HTML object>"
      ]
     },
     "metadata": {},
     "output_type": "display_data"
    },
    {
     "data": {
      "text/html": [
       " View project at <a href='https://wandb.ai/jadens_team/hebby' target=\"_blank\">https://wandb.ai/jadens_team/hebby</a>"
      ],
      "text/plain": [
       "<IPython.core.display.HTML object>"
      ]
     },
     "metadata": {},
     "output_type": "display_data"
    },
    {
     "data": {
      "text/html": [
       " View run at <a href='https://wandb.ai/jadens_team/hebby/runs/n8uvd3j8' target=\"_blank\">https://wandb.ai/jadens_team/hebby/runs/n8uvd3j8</a>"
      ],
      "text/plain": [
       "<IPython.core.display.HTML object>"
      ]
     },
     "metadata": {},
     "output_type": "display_data"
    },
    {
     "data": {
      "text/html": [
       "<button onClick=\"this.nextSibling.style.display='block';this.style.display='none';\">Display W&B run</button><iframe src='https://wandb.ai/jadens_team/hebby/runs/n8uvd3j8?jupyter=true' style='border:none;width:100%;height:420px;display:none;'></iframe>"
      ],
      "text/plain": [
       "<wandb.sdk.wandb_run.Run at 0x7fdd95f493c0>"
      ]
     },
     "execution_count": 5,
     "metadata": {},
     "output_type": "execute_result"
    }
   ],
   "source": [
    "import wandb\n",
    "# start a new wandb run to track this script\n",
    "wandb.init(\n",
    "    # set the wandb project where this run will be logged\n",
    "    project=\"hebby\",\n",
    "    \n",
    "    # track hyperparameters and run metadata\n",
    "    config={\n",
    "    \"learning_rate\": learning_rate,\n",
    "    \"architecture\": \"crazy hebbian thing\",\n",
    "    \"dataset\": \"wikidump\",\n",
    "    \"epochs\": 1,\n",
    "    \"stochasticity\": stochasticity,\n",
    "    \"imprint_rate\": imprint_rate,\n",
    "    }\n",
    ")"
   ]
  },
  {
   "cell_type": "code",
   "execution_count": 6,
   "metadata": {},
   "outputs": [
    {
     "name": "stdout",
     "output_type": "stream",
     "text": [
      "50 0% (0m 8s) 4.4303 orses had to walk up a steep hill a number of men with bludgeons and sticks came out of a ditch peer / 2 ✗ (r)\n",
      "100 1% (0m 16s) 4.2407  max knew that he certainly must have reached this same road and possibly not far from the point at  / i ✗ ( )\n",
      "Loss is NaN, breaking...\n",
      "tensor([[nan, nan, nan,  ..., nan, nan, nan],\n",
      "        [nan, nan, nan,  ..., nan, nan, nan],\n",
      "        [nan, nan, nan,  ..., nan, nan, nan],\n",
      "        ...,\n",
      "        [nan, nan, nan,  ..., nan, nan, nan],\n",
      "        [nan, nan, nan,  ..., nan, nan, nan],\n",
      "        [nan, nan, nan,  ..., nan, nan, nan]])\n",
      "tensor([ 0.1451, -0.0387,  0.0879, -0.0592, -0.0723,  0.0452, -0.0146,  0.0651,\n",
      "        -0.0535,  0.1109,  0.0265,  0.2372,  0.0224, -0.0242,  0.0774, -0.1770,\n",
      "        -0.0978, -0.0460,  0.1451,  0.0276, -0.0820,  0.0137, -0.0750,  0.0748,\n",
      "        -0.0143, -0.0790,  0.0873,  0.1654, -0.0407,  0.1588, -0.1341,  0.3798,\n",
      "         0.1462, -0.1161, -0.0664, -0.1143, -0.1052, -0.1817, -0.0960,  0.1084,\n",
      "        -0.1111, -0.0806,  0.1779,  0.1765,  0.0852,  0.2766, -0.0456,  0.1607,\n",
      "        -0.0419, -0.0803, -0.0230, -0.0410, -0.0826,  0.3277, -0.0301,  0.0235,\n",
      "        -0.2081,  0.0547,  0.0751,  0.1094, -0.2279,  0.0579,  0.1120, -0.2340,\n",
      "        -0.0104,  0.1194, -0.0168,  0.0069, -0.2185, -0.0242, -0.1180, -0.0058,\n",
      "        -0.0481,  0.0982,  0.0558, -0.1538, -0.0116, -0.0652,  0.0842,  0.1724,\n",
      "         0.1309, -0.0575, -0.0765, -0.0612,  0.0469,  0.0603,  0.0362,  0.0946,\n",
      "         0.0081,  0.0098, -0.1241, -0.0048,  0.1104,  0.1130, -0.0316,  0.0994,\n",
      "        -0.0350, -0.1200, -0.1140,  0.2096, -0.0648, -0.0884,  0.0189, -0.0940,\n",
      "         0.0891, -0.3165, -0.0958,  0.1707,  0.1834, -0.2476, -0.0216, -0.0430,\n",
      "         0.0466,  0.0083, -0.0055, -0.1494, -0.0738,  0.1518, -0.0264,  0.0121,\n",
      "        -0.2538, -0.2652, -0.0856, -0.0211, -0.0095,  0.0380, -0.0105, -0.0865])\n",
      "tensor([[nan, nan, nan,  ..., nan, nan, nan],\n",
      "        [nan, nan, nan,  ..., nan, nan, nan],\n",
      "        [nan, nan, nan,  ..., nan, nan, nan],\n",
      "        ...,\n",
      "        [nan, nan, nan,  ..., nan, nan, nan],\n",
      "        [nan, nan, nan,  ..., nan, nan, nan],\n",
      "        [nan, nan, nan,  ..., nan, nan, nan]])\n",
      "tensor([[nan, nan, nan,  ..., nan, nan, nan],\n",
      "        [nan, nan, nan,  ..., nan, nan, nan],\n",
      "        [nan, nan, nan,  ..., nan, nan, nan],\n",
      "        ...,\n",
      "        [nan, nan, nan,  ..., nan, nan, nan],\n",
      "        [nan, nan, nan,  ..., nan, nan, nan],\n",
      "        [nan, nan, nan,  ..., nan, nan, nan]])\n",
      "tensor([-0.0372, -0.1010,  0.0411, -0.0176,  0.1253, -0.1648, -0.0592, -0.0758,\n",
      "         0.0895, -0.0226, -0.0546,  0.2561, -0.0177, -0.1123,  0.0323,  0.0144,\n",
      "        -0.0203, -0.2702,  0.2097,  0.1675, -0.1182, -0.1337,  0.1702,  0.0867,\n",
      "         0.1931,  0.0056,  0.1358, -0.2042,  0.1157, -0.1134,  0.0066, -0.1856,\n",
      "         0.1240,  0.1711,  0.2263,  0.0772,  0.0590,  0.1535,  0.0983, -0.0881,\n",
      "        -0.0063, -0.1963, -0.1445,  0.0531,  0.2434,  0.1927, -0.1020,  0.0498,\n",
      "        -0.0392, -0.0402,  0.1078,  0.0561,  0.0413, -0.0082,  0.3017,  0.1572,\n",
      "        -0.0477,  0.0410, -0.0460,  0.0280, -0.0930,  0.0593,  0.1072,  0.0187,\n",
      "         0.1072, -0.1930, -0.1250, -0.0720,  0.1186,  0.1191,  0.0987,  0.0746,\n",
      "         0.1805, -0.0597,  0.0125,  0.0587,  0.2917,  0.1292,  0.1264,  0.0683,\n",
      "        -0.0893, -0.0008, -0.1017, -0.2262,  0.0605,  0.0541, -0.0594,  0.0150,\n",
      "        -0.2318,  0.0399, -0.1226, -0.1160, -0.2420,  0.1460, -0.1674, -0.0262,\n",
      "        -0.0217, -0.0870, -0.0649,  0.0962, -0.2209,  0.0917, -0.1821, -0.1213,\n",
      "         0.0476, -0.0857,  0.1235, -0.2139, -0.0322,  0.0606,  0.0251, -0.0751,\n",
      "         0.0300, -0.0646,  0.1225, -0.0230, -0.0152,  0.0125,  0.1629, -0.0168,\n",
      "        -0.2452, -0.2249, -0.1396,  0.0938,  0.0399,  0.0648,  0.1525,  0.0375])\n",
      "tensor([[nan, nan, nan,  ..., nan, nan, nan],\n",
      "        [nan, nan, nan,  ..., nan, nan, nan],\n",
      "        [nan, nan, nan,  ..., nan, nan, nan],\n",
      "        ...,\n",
      "        [nan, nan, nan,  ..., nan, nan, nan],\n",
      "        [nan, nan, nan,  ..., nan, nan, nan],\n",
      "        [nan, nan, nan,  ..., nan, nan, nan]])\n",
      "tensor([[nan, nan, nan,  ..., nan, nan, nan],\n",
      "        [nan, nan, nan,  ..., nan, nan, nan],\n",
      "        [nan, nan, nan,  ..., nan, nan, nan],\n",
      "        ...,\n",
      "        [nan, nan, nan,  ..., nan, nan, nan],\n",
      "        [nan, nan, nan,  ..., nan, nan, nan],\n",
      "        [nan, nan, nan,  ..., nan, nan, nan]])\n",
      "tensor([ 6.0514e-03, -7.8123e-02,  5.6270e-03, -6.3035e-03,  2.4879e-01,\n",
      "         1.0557e-01,  2.2652e-01,  1.1341e-01, -2.3528e-02,  8.6156e-02,\n",
      "         5.0477e-03, -2.3944e-01, -2.8310e-02, -1.8968e-02,  1.6067e-01,\n",
      "         4.2269e-01,  1.6941e-01, -9.2530e-02,  9.0962e-02,  2.7084e-01,\n",
      "        -6.3993e-02, -5.1622e-02,  6.2165e-03,  3.3773e-01,  1.6373e-01,\n",
      "        -5.6354e-02,  8.1845e-02,  8.9541e-02,  2.7334e-04, -7.3966e-03,\n",
      "         1.8922e-03,  9.6032e-02, -9.9080e-02, -5.5061e-02, -2.6618e-02,\n",
      "        -1.3236e-02,  1.2928e-01, -7.0483e-02,  9.1442e-02, -4.2720e-02,\n",
      "         1.9856e-02,  1.7128e-03, -1.8588e-01, -1.4427e-01, -3.2868e-02,\n",
      "         1.5453e-02, -1.5997e-03, -7.5076e-02,  5.8709e-02, -4.0252e-02,\n",
      "         1.5006e-01,  1.3935e-01,  1.4862e-02, -1.2969e-01,  1.0539e-01,\n",
      "         9.8785e-02, -3.1138e-02,  3.1874e-02, -6.7192e-02, -1.8013e-02,\n",
      "         2.0195e-01,  1.9961e-01,  9.5844e-02,  2.3228e-01,  2.4503e-02,\n",
      "         5.9864e-02, -1.0909e-01, -1.3076e-02,  6.2411e-03,  2.0898e-02,\n",
      "        -1.3410e-02, -3.5316e-02, -1.5820e-01,  3.3005e-02, -9.7796e-02,\n",
      "        -7.7363e-02,  8.6308e-02,  3.5958e-02,  2.6699e-02, -2.6501e-01,\n",
      "         3.3935e-02, -2.1240e-01,  3.1723e-01, -1.7687e-02,  1.8692e-01,\n",
      "        -1.8871e-01,  2.6880e-02, -4.8023e-03,  1.1794e-01, -1.1021e-01,\n",
      "        -9.2448e-02, -9.5290e-02, -9.8305e-02, -1.5710e-01,  6.8478e-02,\n",
      "        -1.2022e-01, -3.0507e-02,  6.5847e-02,  1.8433e-02, -3.6695e-02,\n",
      "        -9.8899e-02,  4.6102e-02, -5.7903e-02,  1.7206e-01, -7.3159e-02,\n",
      "         1.1787e-01,  9.9238e-02, -1.0614e-01,  3.4875e-01, -2.9487e-02,\n",
      "        -4.6236e-02, -5.2635e-02,  2.3859e-02, -4.2390e-02,  2.4624e-01,\n",
      "         7.8749e-02, -1.4104e-01, -2.9137e-02, -3.4197e-02, -1.7645e-01,\n",
      "        -2.4397e-01, -3.1377e-01, -1.0949e-01,  1.3777e-01,  8.1675e-02,\n",
      "         2.9436e-01,  2.2916e-02,  2.8972e-02])\n",
      "tensor([[nan, nan, nan,  ..., nan, nan, nan],\n",
      "        [nan, nan, nan,  ..., nan, nan, nan],\n",
      "        [nan, nan, nan,  ..., nan, nan, nan],\n",
      "        ...,\n",
      "        [nan, nan, nan,  ..., nan, nan, nan],\n",
      "        [nan, nan, nan,  ..., nan, nan, nan],\n",
      "        [nan, nan, nan,  ..., nan, nan, nan]])\n",
      "tensor([[nan, nan, nan,  ..., nan, nan, nan],\n",
      "        [nan, nan, nan,  ..., nan, nan, nan],\n",
      "        [nan, nan, nan,  ..., nan, nan, nan],\n",
      "        ...,\n",
      "        [nan, nan, nan,  ..., nan, nan, nan],\n",
      "        [nan, nan, nan,  ..., nan, nan, nan],\n",
      "        [nan, nan, nan,  ..., nan, nan, nan]])\n",
      "tensor([-0.1050, -0.0356, -0.0614, -0.0966,  0.0164, -0.0284, -0.1646, -0.1744,\n",
      "         0.2857,  0.1994,  0.0645, -0.0500,  0.0626,  0.1488,  0.0738, -0.0712,\n",
      "        -0.2193,  0.1335,  0.0924, -0.0910,  0.0492, -0.0111,  0.0322,  0.0269,\n",
      "         0.1702, -0.0602, -0.3211, -0.0515,  0.0620,  0.1528, -0.0607,  0.1035,\n",
      "        -0.1162,  0.0465, -0.0843,  0.1772,  0.0509, -0.1282, -0.0666,  0.0600,\n",
      "        -0.0335, -0.0446,  0.0223,  0.2154,  0.1120,  0.1781,  0.0674, -0.0080,\n",
      "         0.2663, -0.2081,  0.1069, -0.0517,  0.1233, -0.1911, -0.1739,  0.1150,\n",
      "         0.0026,  0.0087,  0.0641,  0.2272,  0.1254,  0.1600, -0.0102,  0.0821,\n",
      "         0.0579,  0.0281,  0.0524,  0.1447, -0.1258,  0.0832,  0.0671,  0.0503,\n",
      "        -0.2047,  0.2346, -0.0828, -0.1016,  0.0653, -0.0384,  0.1265,  0.1224,\n",
      "        -0.0669, -0.0182,  0.0334,  0.1061,  0.0273,  0.0145,  0.1037,  0.0255,\n",
      "        -0.1796, -0.0650, -0.1837, -0.0883,  0.0806,  0.0743, -0.0066, -0.1874,\n",
      "         0.1272, -0.0133, -0.1146, -0.0439, -0.0198,  0.0330, -0.2162,  0.1423,\n",
      "        -0.0587, -0.0761,  0.1332,  0.0815, -0.0842, -0.0155, -0.1544,  0.1561,\n",
      "         0.0125,  0.0022, -0.0795,  0.0847, -0.0269,  0.1289, -0.1651, -0.2205,\n",
      "        -0.1096,  0.0344,  0.0450, -0.1635,  0.1151, -0.0213, -0.0314,  0.0835])\n",
      "tensor([[nan, nan, nan,  ..., nan, nan, nan],\n",
      "        [nan, nan, nan,  ..., nan, nan, nan],\n",
      "        [nan, nan, nan,  ..., nan, nan, nan],\n",
      "        ...,\n",
      "        [nan, nan, nan,  ..., nan, nan, nan],\n",
      "        [nan, nan, nan,  ..., nan, nan, nan],\n",
      "        [nan, nan, nan,  ..., nan, nan, nan]])\n",
      "tensor([[nan, nan, nan,  ..., nan, nan, nan],\n",
      "        [nan, nan, nan,  ..., nan, nan, nan],\n",
      "        [nan, nan, nan,  ..., nan, nan, nan],\n",
      "        ...,\n",
      "        [nan, nan, nan,  ..., nan, nan, nan],\n",
      "        [nan, nan, nan,  ..., nan, nan, nan],\n",
      "        [nan, nan, nan,  ..., nan, nan, nan]])\n",
      "tensor([-0.0211, -0.0287, -0.1033,  0.0756, -0.0063,  0.0762,  0.1061, -0.1827,\n",
      "         0.0087,  0.0219,  0.2070, -0.0878,  0.2041, -0.0411,  0.1378, -0.0161,\n",
      "         0.0457,  0.0484,  0.0086,  0.0039, -0.2078, -0.1384, -0.0646, -0.2338,\n",
      "        -0.0814, -0.1873, -0.1965,  0.2991, -0.0297, -0.2323,  0.1236, -0.0633,\n",
      "        -0.0578,  0.0098,  0.0544,  0.0272, -0.1249, -0.2743, -0.1607,  0.0560,\n",
      "         0.1831,  0.1282,  0.0025,  0.0253, -0.0051, -0.0284,  0.2265,  0.1658,\n",
      "         0.0757, -0.1261,  0.0038, -0.0535, -0.0652, -0.1206,  0.0979,  0.0650,\n",
      "        -0.0385, -0.0808,  0.1283,  0.1771,  0.1476,  0.0013,  0.0021,  0.0834,\n",
      "         0.0405, -0.0514, -0.0311, -0.1220, -0.1911,  0.0765])\n",
      "tensor([[nan, nan, nan,  ..., nan, nan, nan],\n",
      "        [nan, nan, nan,  ..., nan, nan, nan],\n",
      "        [nan, nan, nan,  ..., nan, nan, nan],\n",
      "        ...,\n",
      "        [nan, nan, nan,  ..., nan, nan, nan],\n",
      "        [nan, nan, nan,  ..., nan, nan, nan],\n",
      "        [nan, nan, nan,  ..., nan, nan, nan]])\n"
     ]
    },
    {
     "name": "stderr",
     "output_type": "stream",
     "text": [
      "wandb: WARNING Source type is set to 'repo' but some required information is missing from the environment. A job will not be created from this run. See https://docs.wandb.ai/guides/launch/create-job\n"
     ]
    },
    {
     "data": {
      "text/html": [
       "<style>\n",
       "    table.wandb td:nth-child(1) { padding: 0 10px; text-align: left ; width: auto;} td:nth-child(2) {text-align: left ; width: 100%}\n",
       "    .wandb-row { display: flex; flex-direction: row; flex-wrap: wrap; justify-content: flex-start; width: 100% }\n",
       "    .wandb-col { display: flex; flex-direction: column; flex-basis: 100%; flex: 1; padding: 10px; }\n",
       "    </style>\n",
       "<div class=\"wandb-row\"><div class=\"wandb-col\"><h3>Run history:</h3><br/><table class=\"wandb\"><tr><td>loss</td><td>▄▃▃▃▃▃▃▄▃▃▃▄▃▄▄▄▃▄▄▄▄▄▅▄▂▁▃▄▅▄▃▄▃▅▃▃▅█▅ </td></tr></table><br/></div><div class=\"wandb-col\"><h3>Run summary:</h3><br/><table class=\"wandb\"><tr><td>correct</td><td>✗ ( )</td></tr><tr><td>loss</td><td>nan</td></tr><tr><td>predicted_char</td><td>i</td></tr><tr><td>sequence</td><td> max knew that he ce...</td></tr><tr><td>target_char</td><td> </td></tr></table><br/></div></div>"
      ],
      "text/plain": [
       "<IPython.core.display.HTML object>"
      ]
     },
     "metadata": {},
     "output_type": "display_data"
    },
    {
     "data": {
      "text/html": [
       " View run <strong style=\"color:#cdcd00\">dandy-frog-3</strong> at: <a href='https://wandb.ai/jadens_team/hebby/runs/n8uvd3j8' target=\"_blank\">https://wandb.ai/jadens_team/hebby/runs/n8uvd3j8</a><br/>Synced 6 W&B file(s), 0 media file(s), 0 artifact file(s) and 0 other file(s)"
      ],
      "text/plain": [
       "<IPython.core.display.HTML object>"
      ]
     },
     "metadata": {},
     "output_type": "display_data"
    },
    {
     "data": {
      "text/html": [
       "Find logs at: <code>./wandb/run-20240112_162350-n8uvd3j8/logs</code>"
      ],
      "text/plain": [
       "<IPython.core.display.HTML object>"
      ]
     },
     "metadata": {},
     "output_type": "display_data"
    }
   ],
   "source": [
    "import time\n",
    "import math\n",
    "\n",
    "n_iters = 10000\n",
    "print_every = 50\n",
    "plot_every = 1\n",
    "\n",
    "# Keep track of losses for plotting\n",
    "current_loss = 0\n",
    "all_losses = []\n",
    "\n",
    "def timeSince(since):\n",
    "    now = time.time()\n",
    "    s = now - since\n",
    "    m = math.floor(s / 60)\n",
    "    s -= m * 60\n",
    "    return '%dm %ds' % (m, s)\n",
    "\n",
    "start = time.time()\n",
    "\n",
    "for iter in range(1, n_iters + 1):\n",
    "    sequence, line_tensor = randomTrainingExample()\n",
    "    output, loss = train(line_tensor)\n",
    "    current_loss += loss\n",
    "    wandb.log({\"loss\": loss})\n",
    "    # Check if loss is NaN\n",
    "    if math.isnan(loss):\n",
    "        print(\"Loss is NaN, breaking...\")\n",
    "        parameters = list(rnn.parameters())\n",
    "        for p in parameters:\n",
    "            print(p.data)\n",
    "        break\n",
    "    # Print ``iter`` number, loss, name and guess\n",
    "    if iter % print_every == 0:\n",
    "        # Use the output to generate a character prediction\n",
    "        topv, topi = output.topk(1, dim=1)  # Change dim to 1\n",
    "        predicted_char = text_dataset.idx_to_char[topi[0, 0].item()]\n",
    "        target_char = sequence[-1]\n",
    "        correct = '✓' if predicted_char == target_char else '✗ (%s)' % target_char\n",
    "        print('%d %d%% (%s) %.4f %s / %s %s' % (iter, iter / n_iters * 100, timeSince(start), loss, sequence, predicted_char, correct))\n",
    "        wandb.log({\"correct\": correct, \"predicted_char\": predicted_char, \"target_char\": target_char, \"sequence\": sequence})\n",
    "\n",
    "        # also print some weights:\n",
    "        # print(\"i2h weights:\", rnn.i2h.weight)\n",
    "        # print(\"i2o weights:\", rnn.i2o.weight)\n",
    "\n",
    "    # Add current loss avg to list of losses\n",
    "    if iter % plot_every == 0:\n",
    "        all_losses.append(current_loss / plot_every)\n",
    "        current_loss = 0\n",
    "\n",
    "# [optional] finish the wandb run, necessary in notebooks\n",
    "wandb.finish()"
   ]
  },
  {
   "cell_type": "code",
   "execution_count": 7,
   "metadata": {},
   "outputs": [
    {
     "data": {
      "text/plain": [
       "[<matplotlib.lines.Line2D at 0x7fdd7f7850c0>]"
      ]
     },
     "execution_count": 7,
     "metadata": {},
     "output_type": "execute_result"
    },
    {
     "data": {
      "image/png": "[encoded data removed]",
      "text/plain": [
       "<Figure size 640x480 with 1 Axes>"
      ]
     },
     "metadata": {},
     "output_type": "display_data"
    }
   ],
   "source": [
    "import matplotlib.pyplot as plt\n",
    "\n",
    "plt.figure()\n",
    "plt.plot(all_losses)"
   ]
  },
  {
   "cell_type": "code",
   "execution_count": null,
   "metadata": {},
   "outputs": [],
   "source": []
  },
  {
   "cell_type": "code",
   "execution_count": null,
   "metadata": {},
   "outputs": [],
   "source": []
  }
 ],
 "metadata": {
  "kernelspec": {
   "display_name": "Python 3",
   "language": "python",
   "name": "python3"
  },
  "language_info": {
   "codemirror_mode": {
    "name": "ipython",
    "version": 3
   },
   "file_extension": ".py",
   "mimetype": "text/x-python",
   "name": "python",
   "nbconvert_exporter": "python",
   "pygments_lexer": "ipython3",
   "version": "3.10.13"
  }
 },
 "nbformat": 4,
 "nbformat_minor": 2
}
