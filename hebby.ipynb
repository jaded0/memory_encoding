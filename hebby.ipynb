{
 "cells": [
  {
   "cell_type": "code",
   "execution_count": 1,
   "metadata": {},
   "outputs": [
    {
     "name": "stdout",
     "output_type": "stream",
     "text": [
      "Dataset created with 18422222637 sequences.\n",
      "\n",
      "Batch 1\n",
      "Inputs shape: torch.Size([1, 100])\n",
      "Sequence: nd start him toward home he not tell tales out of school will you old boy slapping his neck affectio\n",
      "\n",
      "Batch 2\n",
      "Inputs shape: torch.Size([1, 100])\n",
      "Sequence: pe is to scream as loud as ever we can said cousin nancy nobody knows where we are the hands are all\n"
     ]
    }
   ],
   "source": [
    "from dataset_creation import TextDataset\n",
    "from torch.utils.data import DataLoader\n",
    "import numpy as np\n",
    "\n",
    "# Instantiate the dataset\n",
    "text_dataset = TextDataset(directory='data/SPGC-tokens-2018-07-18/', sequence_length=100)\n",
    "print(f\"Dataset created with {len(text_dataset)} sequences.\")\n",
    "\n",
    "# Create a DataLoader without a sampler\n",
    "dataloader = DataLoader(text_dataset, batch_size=1)\n",
    "\n",
    "# Iterate over a few batches and print their contents\n",
    "for i, (sequences, inputs) in enumerate(dataloader):\n",
    "    if i >= 2:  # Adjust this value to see more/less batches\n",
    "        break\n",
    "\n",
    "    print(f\"\\nBatch {i+1}\")\n",
    "    print(f\"Inputs shape: {inputs.shape}\")\n",
    "\n",
    "    # Optionally print the actual sequences (comment out if too verbose)\n",
    "    sequence = ''.join([text_dataset.idx_to_char[int(idx)] for idx in inputs[0]])\n",
    "    # target = text_dataset.idx_to_char[int(targets[0])]\n",
    "    print(f\"Sequence: {sequence}\")\n"
   ]
  },
  {
   "cell_type": "code",
   "execution_count": 2,
   "metadata": {},
   "outputs": [
    {
     "name": "stdout",
     "output_type": "stream",
     "text": [
      "Number of unique characters: 70\n",
      "Characters: ['a', 'b', 'c', 'd', 'e', 'f', 'g', 'h', 'i', 'j', 'k', 'l', 'm', 'n', 'o', 'p', 'q', 'r', 's', 't', 'u', 'v', 'w', 'x', 'y', 'z', 'A', 'B', 'C', 'D', 'E', 'F', 'G', 'H', 'I', 'J', 'K', 'L', 'M', 'N', 'O', 'P', 'Q', 'R', 'S', 'T', 'U', 'V', 'W', 'X', 'Y', 'Z', '0', '1', '2', '3', '4', '5', '6', '7', '8', '9', ',', '.', ';', \"'\", '\"', '?', '!', ' ']\n"
     ]
    }
   ],
   "source": [
    "import torch\n",
    "\n",
    "# Define chars using keys of char_to_idx\n",
    "chars = list(text_dataset.char_to_idx.keys())\n",
    "\n",
    "n_characters = len(chars)  # Number of unique characters\n",
    "print(f\"Number of unique characters: {n_characters}\")\n",
    "print(f\"Characters: {chars}\")"
   ]
  },
  {
   "cell_type": "code",
   "execution_count": 3,
   "metadata": {},
   "outputs": [
    {
     "name": "stdout",
     "output_type": "stream",
     "text": [
      "Shape of weights: torch.Size([5, 10])\n",
      "Shape of imprints: torch.Size([5, 10])\n",
      "Are the shapes identical? True\n",
      "Weights:\n",
      "  Parameter containing:\n",
      "tensor([[-0.1362,  0.3100, -0.1912, -0.1740,  0.2214, -0.2447, -0.0329,  0.1657,\n",
      "         -0.2350,  0.3118],\n",
      "        [ 0.2942, -0.1905,  0.2685, -0.2207,  0.1897,  0.0812,  0.2038,  0.0351,\n",
      "         -0.1219,  0.2724],\n",
      "        [ 0.2423,  0.1344, -0.2414,  0.2498, -0.0360,  0.2990,  0.0099,  0.2113,\n",
      "         -0.2617,  0.2026],\n",
      "        [ 0.1000, -0.2401,  0.2527,  0.3018,  0.1471,  0.1615, -0.2487, -0.2807,\n",
      "         -0.1422, -0.2393],\n",
      "        [-0.0257, -0.0564,  0.0087,  0.0563, -0.0513, -0.0898, -0.0462,  0.0695,\n",
      "          0.1445,  0.0264]], requires_grad=True)\n",
      "Weights after imprint:\n",
      "  Parameter containing:\n",
      "tensor([[-0.1292,  0.3548, -0.1806, -0.4283,  0.3723, -0.2174,  0.0422,  0.1164,\n",
      "         -0.3205,  0.4274],\n",
      "        [ 0.2977, -0.1582,  0.2759, -0.4425,  0.3106,  0.1106,  0.2718, -0.0041,\n",
      "         -0.1847,  0.3910],\n",
      "        [ 0.2468,  0.1247, -0.2444,  0.2912, -0.0614,  0.2823,  0.0022,  0.2081,\n",
      "         -0.2602,  0.1977],\n",
      "        [ 0.1116, -0.2596,  0.2470,  0.4516,  0.0748,  0.1111, -0.2880, -0.2808,\n",
      "         -0.1369, -0.3098],\n",
      "        [-0.0271, -0.0728,  0.0046,  0.1388, -0.1024, -0.1006, -0.0691,  0.0835,\n",
      "          0.1715, -0.0045]], requires_grad=True)\n"
     ]
    }
   ],
   "source": [
    "import torch.nn as nn\n",
    "\n",
    "class HebbianLinear(nn.Linear):\n",
    "    def __init__(self, in_features, out_features, bias=True):\n",
    "        super(HebbianLinear, self).__init__(in_features, out_features, bias)\n",
    "        self.imprints = nn.Parameter(torch.zeros_like(self.weight))\n",
    "\n",
    "    def forward(self, input):\n",
    "        # print(input)\n",
    "        output = super(HebbianLinear, self).forward(input)\n",
    "        self.update_imprints(input, output)\n",
    "        # print(output)\n",
    "        return output\n",
    "\n",
    "    def update_imprints(self, input, output):\n",
    "        # print(\"input shape:\", input.shape)\n",
    "        # print(\"output shape:\", output.shape)\n",
    "    \n",
    "        # Hebbian update rule: imprint = input * output\n",
    "        # Adjusting to compute the required [5, 10] imprint matrix for each batch\n",
    "        # Reshape input and output for broadcasting\n",
    "        input_expanded = input.unsqueeze(1)  # Shape: [batch_size, 1, in_features]\n",
    "        output_expanded = output.unsqueeze(2)  # Shape: [batch_size, out_features, 1]\n",
    "\n",
    "        # Element-wise multiplication with broadcasting\n",
    "        # Results in a [batch_size, out_features, in_features] tensor\n",
    "        imprint_update = output_expanded * input_expanded\n",
    "\n",
    "        # Sum over the batch dimension to get the final imprint update\n",
    "        self.imprints.data += imprint_update.sum(dim=0)\n",
    "\n",
    "\n",
    "\n",
    "    def apply_imprints(self, reward, learning_rate):\n",
    "        # Apply the imprints to the weights\n",
    "        self.weight.data += reward * learning_rate * self.imprints\n",
    "\n",
    "\n",
    "# Example instantiation of HebbianLinear\n",
    "layer = HebbianLinear(in_features=10, out_features=5)\n",
    "\n",
    "# Checking if the shapes are the same\n",
    "print(\"Shape of weights:\", layer.weight.shape)\n",
    "print(\"Shape of imprints:\", layer.imprints.shape)\n",
    "print(\"Are the shapes identical?\", layer.weight.shape == layer.imprints.shape)\n",
    "\n",
    "# Generate random data\n",
    "input_data = torch.randn(3, 10)  # Batch size of 3, input features 10\n",
    "\n",
    "# Pass data through the HebbianLinear layer\n",
    "output = layer(input_data)\n",
    "\n",
    "print(\"Weights:\\n \", layer.weight)\n",
    "layer.apply_imprints(reward=0.5, learning_rate=0.1)\n",
    "print(\"Weights after imprint:\\n \", layer.weight)"
   ]
  },
  {
   "cell_type": "code",
   "execution_count": 4,
   "metadata": {},
   "outputs": [
    {
     "data": {
      "text/plain": [
       "tensor(0.)"
      ]
     },
     "execution_count": 4,
     "metadata": {},
     "output_type": "execute_result"
    }
   ],
   "source": [
    "import torch.nn.functional as F\n",
    "\n",
    "class SimpleRNN(torch.nn.Module):\n",
    "    def __init__(self, input_size, hidden_size, output_size, num_layers):\n",
    "        super(SimpleRNN, self).__init__()\n",
    "        self.hidden_size = hidden_size\n",
    "        self.num_layers = num_layers\n",
    "\n",
    "        # Using HebbianLinear instead of Linear\n",
    "        self.linear_layers = torch.nn.ModuleList([HebbianLinear(input_size + hidden_size, hidden_size)])\n",
    "        for _ in range(1, num_layers):\n",
    "            self.linear_layers.append(HebbianLinear(hidden_size, hidden_size))\n",
    "\n",
    "        # Final layers for hidden and output, also using HebbianLinear\n",
    "        self.i2h = HebbianLinear(hidden_size, hidden_size)\n",
    "        self.i2o = HebbianLinear(hidden_size, output_size)\n",
    "        self.softmax = torch.nn.LogSoftmax(dim=1)\n",
    "\n",
    "    def forward(self, input, hidden):\n",
    "        combined = torch.cat((input, hidden), dim=1)\n",
    "\n",
    "        # Pass through the Hebbian linear layers with ReLU\n",
    "        for layer in self.linear_layers:\n",
    "            combined = layer(combined)\n",
    "            combined = F.relu(combined)\n",
    "\n",
    "        # Split into hidden and output\n",
    "        hidden = self.i2h(combined)\n",
    "        output = self.i2o(combined)\n",
    "        output = self.softmax(output)\n",
    "        return output, hidden\n",
    "\n",
    "    def initHidden(self):\n",
    "        return torch.zeros(1, self.hidden_size)\n",
    "\n",
    "    def apply_imprints(self, reward, learning_rate):\n",
    "        # Apply imprints for all HebbianLinear layers\n",
    "        for layer in self.linear_layers:\n",
    "            layer.apply_imprints(reward, learning_rate)\n",
    "        self.i2h.apply_imprints(reward, learning_rate)\n",
    "        self.i2o.apply_imprints(reward, learning_rate)\n",
    "\n",
    "\n",
    "# Ensure the input size matches the number of features for each input\n",
    "input_size = n_characters\n",
    "output_size = n_characters\n",
    "n_hidden = 128\n",
    "rnn = SimpleRNN(input_size, n_hidden, output_size,3)\n",
    "\n",
    "# Define the loss function (criterion) and optimizer\n",
    "criterion = torch.nn.NLLLoss()\n",
    "optimizer = torch.optim.Adam(rnn.parameters(), lr=0.005)\n",
    "\n",
    "\n",
    "\n",
    "# Apply Gradient Clipping\n",
    "torch.nn.utils.clip_grad_norm_(rnn.parameters(), max_norm=1.0)  # Clip gradients during training\n"
   ]
  },
  {
   "cell_type": "code",
   "execution_count": 5,
   "metadata": {},
   "outputs": [
    {
     "name": "stdout",
     "output_type": "stream",
     "text": [
      "tensor([[0., 0., 0., 0., 0., 0., 0., 0., 0., 0., 0., 0., 0., 0., 0., 0., 0., 0.,\n",
      "         0., 0., 0., 0., 0., 0., 0., 0., 0., 0., 0., 0., 0., 0., 0., 0., 0., 1.,\n",
      "         0., 0., 0., 0., 0., 0., 0., 0., 0., 0., 0., 0., 0., 0., 0., 0., 0., 0.,\n",
      "         0., 0., 0., 0., 0., 0., 0., 0., 0., 0., 0., 0., 0., 0., 0., 0.]])\n",
      "torch.Size([5, 1, 70])\n"
     ]
    }
   ],
   "source": [
    "import torch\n",
    "\n",
    "# Find letter index from all_letters, e.g. \"a\" = 0\n",
    "def letterToIndex(letter):\n",
    "    return text_dataset.char_to_idx[letter]\n",
    "\n",
    "# Just for demonstration, turn a letter into a <1 x n_characters> Tensor\n",
    "def letterToTensor(letter):\n",
    "    tensor = torch.zeros(1, n_characters)\n",
    "    tensor[0][letterToIndex(letter)] = 1\n",
    "    return tensor\n",
    "\n",
    "# Turn a line into a <line_length x 1 x n_characters>,\n",
    "# or an array of one-hot letter vectors\n",
    "def lineToTensor(line):\n",
    "    tensor = torch.zeros(len(line), 1, n_characters)\n",
    "    for li, letter in enumerate(line):\n",
    "        tensor[li][0][letterToIndex(letter)] = 1\n",
    "    return tensor\n",
    "\n",
    "print(letterToTensor('J'))\n",
    "\n",
    "print(lineToTensor('Jones').size())"
   ]
  },
  {
   "cell_type": "code",
   "execution_count": 6,
   "metadata": {},
   "outputs": [
    {
     "data": {
      "text/plain": [
       "('n the convenient grapevine could he be prevented from doing this now unless the truth were told him ',\n",
       " tensor([13, 69, 19,  7,  4, 69,  2, 14, 13, 21,  4, 13,  8,  4, 13, 19, 69,  6,\n",
       "         17,  0, 15,  4, 21,  8, 13,  4, 69,  2, 14, 20, 11,  3, 69,  7,  4, 69,\n",
       "          1,  4, 69, 15, 17,  4, 21,  4, 13, 19,  4,  3, 69,  5, 17, 14, 12, 69,\n",
       "          3, 14,  8, 13,  6, 69, 19,  7,  8, 18, 69, 13, 14, 22, 69, 20, 13, 11,\n",
       "          4, 18, 18, 69, 19,  7,  4, 69, 19, 17, 20, 19,  7, 69, 22,  4, 17,  4,\n",
       "         69, 19, 14, 11,  3, 69,  7,  8, 12, 69]))"
      ]
     },
     "execution_count": 6,
     "metadata": {},
     "output_type": "execute_result"
    }
   ],
   "source": [
    "text_dataset[3]"
   ]
  },
  {
   "cell_type": "code",
   "execution_count": 7,
   "metadata": {},
   "outputs": [
    {
     "data": {
      "text/plain": [
       "('terpreted it and found the answer that which is written in water must be read in i understand now sa',\n",
       " tensor([19,  4, 17, 15, 17,  4, 19,  4,  3, 69,  8, 19, 69,  0, 13,  3, 69,  5,\n",
       "         14, 20, 13,  3, 69, 19,  7,  4, 69,  0, 13, 18, 22,  4, 17, 69, 19,  7,\n",
       "          0, 19, 69, 22,  7,  8,  2,  7, 69,  8, 18, 69, 22, 17,  8, 19, 19,  4,\n",
       "         13, 69,  8, 13, 69, 22,  0, 19,  4, 17, 69, 12, 20, 18, 19, 69,  1,  4,\n",
       "         69, 17,  4,  0,  3, 69,  8, 13, 69,  8, 69, 20, 13,  3,  4, 17, 18, 19,\n",
       "          0, 13,  3, 69, 13, 14, 22, 69, 18,  0]))"
      ]
     },
     "execution_count": 7,
     "metadata": {},
     "output_type": "execute_result"
    }
   ],
   "source": [
    "def randomTrainingExample():\n",
    "    \"\"\"Generate a random training example from the dataset\"\"\"\n",
    "    sequence, line_tensor = text_dataset[np.random.randint(len(text_dataset))]\n",
    "    return sequence, line_tensor\n",
    "\n",
    "randomTrainingExample()"
   ]
  },
  {
   "cell_type": "code",
   "execution_count": 8,
   "metadata": {},
   "outputs": [],
   "source": [
    "learning_rate = 0.00005 # If you set this too high, it might explode. If too low, it might not learn\n",
    "\n",
    "def train(line_tensor):\n",
    "    hidden = rnn.initHidden()\n",
    "    rnn.zero_grad()\n",
    "\n",
    "    for i in range(line_tensor.size()[0] - 1):\n",
    "        hot_input_char_tensor = torch.nn.functional.one_hot(line_tensor[i], num_classes=n_characters).type(torch.float).unsqueeze(0)\n",
    "        output, hidden = rnn(hot_input_char_tensor, hidden)\n",
    "\n",
    "    # print(\"output shape:\", output.shape)\n",
    "    # print(\"line_tensor shape:\", line_tensor.shape)\n",
    "    # print(output)\n",
    "    loss = criterion(output, line_tensor[-1].unsqueeze(0))\n",
    "    # print(loss)\n",
    "\n",
    "    # Convert loss to a reward signal\n",
    "    reward = 1 / (1 + loss.item())  # Example conversion, assuming loss is non-negative\n",
    "\n",
    "    # Apply Hebbian updates\n",
    "    rnn.apply_imprints(reward, learning_rate)\n",
    "    torch.nn.utils.clip_grad_norm_(rnn.parameters(),max_norm=1.0)  # Clip gradients during training\n",
    "\n",
    "    # Perform backward pass and optimizer step if using gradient descent for other parameters\n",
    "    # loss.backward()\n",
    "    # optimizer.step()\n",
    "\n",
    "    return output, loss.item()\n"
   ]
  },
  {
   "cell_type": "code",
   "execution_count": 9,
   "metadata": {},
   "outputs": [
    {
     "name": "stdout",
     "output_type": "stream",
     "text": [
      "50 0% (0m 1s) 4.3810 s close to him have i ever complained is adamo answer that the marchesa asks me you saved my life ad / I ✗ (d)\n",
      "100 0% (0m 3s) nan analle eikä muille huhuna vain kerrottiin että hän olisi puuttunut kotipuolessaan vallitseviin uskon / a ✗ (n)\n",
      "150 0% (0m 5s) nan is the presence or absence of fat in a cake mixture that makes the difference in the method of mixin / a ✗ (n)\n",
      "200 0% (0m 6s) nan guida my beloved i understand and i promise you i do promise her head dropped on his breast her arms / a ✗ (s)\n",
      "250 0% (0m 8s) nan in it news news from heaven marcus the post is come sirrah what tidings have you any letters shall i / a ✗ (i)\n",
      "300 0% (0m 10s) nan  the kennel in the haymarket when one young dog who had run counter at a was found to be missing but / a ✗ (t)\n"
     ]
    },
    {
     "ename": "KeyboardInterrupt",
     "evalue": "",
     "output_type": "error",
     "traceback": [
      "\u001b[0;31m---------------------------------------------------------------------------\u001b[0m",
      "\u001b[0;31mKeyboardInterrupt\u001b[0m                         Traceback (most recent call last)",
      "Cell \u001b[0;32mIn[9], line 29\u001b[0m\n\u001b[1;32m     26\u001b[0m current_loss \u001b[38;5;241m+\u001b[39m\u001b[38;5;241m=\u001b[39m loss\n\u001b[1;32m     28\u001b[0m \u001b[38;5;66;03m# Print ``iter`` number, loss, name and guess\u001b[39;00m\n\u001b[0;32m---> 29\u001b[0m \u001b[38;5;28;01mif\u001b[39;00m \u001b[38;5;28miter\u001b[39m \u001b[38;5;241m%\u001b[39m print_every \u001b[38;5;241m==\u001b[39m \u001b[38;5;241m0\u001b[39m:\n\u001b[1;32m     30\u001b[0m     \u001b[38;5;66;03m# Use the output to generate a character prediction\u001b[39;00m\n\u001b[1;32m     31\u001b[0m     topv, topi \u001b[38;5;241m=\u001b[39m output\u001b[38;5;241m.\u001b[39mtopk(\u001b[38;5;241m1\u001b[39m, dim\u001b[38;5;241m=\u001b[39m\u001b[38;5;241m1\u001b[39m)  \u001b[38;5;66;03m# Change dim to 1\u001b[39;00m\n\u001b[1;32m     32\u001b[0m     predicted_char \u001b[38;5;241m=\u001b[39m text_dataset\u001b[38;5;241m.\u001b[39midx_to_char[topi[\u001b[38;5;241m0\u001b[39m, \u001b[38;5;241m0\u001b[39m]\u001b[38;5;241m.\u001b[39mitem()]\n",
      "\u001b[0;31mKeyboardInterrupt\u001b[0m: "
     ]
    }
   ],
   "source": [
    "import time\n",
    "import math\n",
    "\n",
    "n_iters = 100000\n",
    "print_every = 50\n",
    "plot_every = 10\n",
    "\n",
    "\n",
    "\n",
    "# Keep track of losses for plotting\n",
    "current_loss = 0\n",
    "all_losses = []\n",
    "\n",
    "def timeSince(since):\n",
    "    now = time.time()\n",
    "    s = now - since\n",
    "    m = math.floor(s / 60)\n",
    "    s -= m * 60\n",
    "    return '%dm %ds' % (m, s)\n",
    "\n",
    "start = time.time()\n",
    "\n",
    "for iter in range(1, n_iters + 1):\n",
    "    sequence, line_tensor = randomTrainingExample()\n",
    "    output, loss = train(line_tensor)\n",
    "    current_loss += loss\n",
    "\n",
    "    # Print ``iter`` number, loss, name and guess\n",
    "    if iter % print_every == 0:\n",
    "        # Use the output to generate a character prediction\n",
    "        topv, topi = output.topk(1, dim=1)  # Change dim to 1\n",
    "        predicted_char = text_dataset.idx_to_char[topi[0, 0].item()]\n",
    "        target_char = sequence[-1]\n",
    "        correct = '✓' if predicted_char == target_char else '✗ (%s)' % target_char\n",
    "        print('%d %d%% (%s) %.4f %s / %s %s' % (iter, iter / n_iters * 100, timeSince(start), loss, sequence, predicted_char, correct))\n",
    "\n",
    "    # Add current loss avg to list of losses\n",
    "    if iter % plot_every == 0:\n",
    "        all_losses.append(current_loss / plot_every)\n",
    "        current_loss = 0"
   ]
  },
  {
   "cell_type": "code",
   "execution_count": null,
   "metadata": {},
   "outputs": [
    {
     "data": {
      "text/plain": [
       "[<matplotlib.lines.Line2D at 0x7fa19623d3f0>]"
      ]
     },
     "execution_count": 9,
     "metadata": {},
     "output_type": "execute_result"
    },
    {
     "data": {
      "image/png": "[encoded data removed]",
      "text/plain": [
       "<Figure size 640x480 with 1 Axes>"
      ]
     },
     "metadata": {},
     "output_type": "display_data"
    }
   ],
   "source": [
    "import matplotlib.pyplot as plt\n",
    "\n",
    "plt.figure()\n",
    "plt.plot(all_losses)"
   ]
  },
  {
   "cell_type": "code",
   "execution_count": null,
   "metadata": {},
   "outputs": [],
   "source": []
  }
 ],
 "metadata": {
  "kernelspec": {
   "display_name": "Python 3",
   "language": "python",
   "name": "python3"
  },
  "language_info": {
   "codemirror_mode": {
    "name": "ipython",
    "version": 3
   },
   "file_extension": ".py",
   "mimetype": "text/x-python",
   "name": "python",
   "nbconvert_exporter": "python",
   "pygments_lexer": "ipython3",
   "version": "3.10.13"
  }
 },
 "nbformat": 4,
 "nbformat_minor": 2
}
